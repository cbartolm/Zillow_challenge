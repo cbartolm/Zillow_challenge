{
 "cells": [
  {
   "cell_type": "markdown",
   "metadata": {},
   "source": [
    "# 0. Environment Check "
   ]
  },
  {
   "cell_type": "code",
   "execution_count": 1,
   "metadata": {},
   "outputs": [
    {
     "name": "stdout",
     "output_type": "stream",
     "text": [
      "# conda environments:\r\n",
      "#\r\n",
      "                         /Users/cbartolm/.julia/conda/3\r\n",
      "base                     /Users/cbartolm/anaconda\r\n",
      "cs230                 *  /Users/cbartolm/anaconda/envs/cs230\r\n",
      "dlAI_ship                /Users/cbartolm/anaconda/envs/dlAI_ship\r\n",
      "dl_AI_recruiting         /Users/cbartolm/anaconda/envs/dl_AI_recruiting\r\n",
      "py36                     /Users/cbartolm/anaconda/envs/py36\r\n",
      "pytorchTutorials         /Users/cbartolm/anaconda/envs/pytorchTutorials\r\n",
      "rStudio                  /Users/cbartolm/anaconda/envs/rStudio\r\n",
      "spam                     /Users/cbartolm/anaconda/envs/spam\r\n",
      "webDev                   /Users/cbartolm/anaconda/envs/webDev\r\n",
      "\r\n"
     ]
    }
   ],
   "source": [
    "!conda env list"
   ]
  },
  {
   "cell_type": "markdown",
   "metadata": {},
   "source": [
    "# 1. Import libraries "
   ]
  },
  {
   "cell_type": "code",
   "execution_count": 2,
   "metadata": {
    "collapsed": true
   },
   "outputs": [],
   "source": [
    "import numpy as np # linear algebra\n",
    "import pandas as pd # data processing, CSV file I/O (e.g. pd.read_csv)\n",
    "import matplotlib.pyplot as plt\n",
    "from matplotlib import style\n",
    "style.use('fivethirtyeight')\n",
    "import sklearn\n",
    "from sklearn.linear_model import LinearRegression\n",
    "import seaborn as sns\n",
    "from sklearn import metrics"
   ]
  },
  {
   "cell_type": "code",
   "execution_count": 3,
   "metadata": {},
   "outputs": [
    {
     "name": "stdout",
     "output_type": "stream",
     "text": [
      "all\n",
      "old\n",
      "test_def.csv\n",
      "training_def.csv\n",
      "validation_def.csv\n",
      "\n"
     ]
    }
   ],
   "source": [
    "# List datasets\n",
    "from subprocess import check_output\n",
    "print(check_output([\"ls\", \"../datasets_stanford/\"]).decode(\"utf8\"))"
   ]
  },
  {
   "cell_type": "markdown",
   "metadata": {},
   "source": [
    "# 2. Load datasets "
   ]
  },
  {
   "cell_type": "code",
   "execution_count": null,
   "metadata": {
    "collapsed": true
   },
   "outputs": [],
   "source": [
    "# Any results you write to the current directory are saved as output.\n",
    "a = pd.read_csv(\"../datasets_stanford/train.csv\")\n",
    "test = pd.read_csv(\"../datasets_stanford//test.csv\")\n",
    "\n",
    "data.describe()"
   ]
  }
 ],
 "metadata": {
  "kernelspec": {
   "display_name": "Python 3",
   "language": "python",
   "name": "python3"
  },
  "language_info": {
   "codemirror_mode": {
    "name": "ipython",
    "version": 3
   },
   "file_extension": ".py",
   "mimetype": "text/x-python",
   "name": "python",
   "nbconvert_exporter": "python",
   "pygments_lexer": "ipython3",
   "version": "3.5.4"
  }
 },
 "nbformat": 4,
 "nbformat_minor": 2
}
