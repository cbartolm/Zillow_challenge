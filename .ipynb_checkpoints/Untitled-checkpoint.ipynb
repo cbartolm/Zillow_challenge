{
 "cells": [
  {
   "cell_type": "markdown",
   "metadata": {},
   "source": [
    "### 1) Import libraries "
   ]
  },
  {
   "cell_type": "code",
   "execution_count": 12,
   "metadata": {},
   "outputs": [],
   "source": [
    "# Data preprocessing\n",
    "import pandas as pd\n",
    "\n",
    "# Efficient linear algebra\n",
    "import numpy as np\n",
    "\n",
    "# ML modelling\n",
    "from sklearn.ensemble import RandomForestRegressor, AdaBoostRegressor, ExtraTreesRegressor, GradientBoostingRegressor\n",
    "from sklearn.svm import LinearSVR\n",
    "from sklearn.cross_validation import KFold;\n",
    "\n",
    "# Train-Dev Set Split\n",
    "from sklearn.model_selection import train_test_split\n",
    "\n",
    "# Visualizations\n",
    "import seaborn as sns\n",
    "import matplotlib.pyplot as plt\n",
    "\n",
    "%matplotlib inline"
   ]
  },
  {
   "cell_type": "code",
   "execution_count": 13,
   "metadata": {
    "collapsed": true
   },
   "outputs": [],
   "source": [
    "# Ignore warnings\n",
    "import warnings\n",
    "warnings.filterwarnings('ignore')"
   ]
  },
  {
   "cell_type": "markdown",
   "metadata": {},
   "source": [
    "### 2) Load data (Train and Test sets from assignment 1) "
   ]
  },
  {
   "cell_type": "code",
   "execution_count": 17,
   "metadata": {},
   "outputs": [],
   "source": [
    "open_df = pd.read_csv(\"../datasets_stanford/merged_train_2016.csv\")\n",
    "donttouch_df = pd.read_csv(\"../datasets_stanford/merged_test_2016.csv\")\n",
    "\n",
    "# Store our passenger ID for easy access\n",
    "parcelIDs = train_df['parcelid']"
   ]
  },
  {
   "cell_type": "code",
   "execution_count": 18,
   "metadata": {},
   "outputs": [
    {
     "data": {
      "text/html": [
       "<div>\n",
       "<style>\n",
       "    .dataframe thead tr:only-child th {\n",
       "        text-align: right;\n",
       "    }\n",
       "\n",
       "    .dataframe thead th {\n",
       "        text-align: left;\n",
       "    }\n",
       "\n",
       "    .dataframe tbody tr th {\n",
       "        vertical-align: top;\n",
       "    }\n",
       "</style>\n",
       "<table border=\"1\" class=\"dataframe\">\n",
       "  <thead>\n",
       "    <tr style=\"text-align: right;\">\n",
       "      <th></th>\n",
       "      <th>parcelid</th>\n",
       "      <th>logerror</th>\n",
       "      <th>transactiondate</th>\n",
       "      <th>airconditioningtypeid</th>\n",
       "      <th>architecturalstyletypeid</th>\n",
       "      <th>basementsqft</th>\n",
       "      <th>bathroomcnt</th>\n",
       "      <th>bedroomcnt</th>\n",
       "      <th>buildingclasstypeid</th>\n",
       "      <th>buildingqualitytypeid</th>\n",
       "      <th>...</th>\n",
       "      <th>numberofstories</th>\n",
       "      <th>fireplaceflag</th>\n",
       "      <th>structuretaxvaluedollarcnt</th>\n",
       "      <th>taxvaluedollarcnt</th>\n",
       "      <th>assessmentyear</th>\n",
       "      <th>landtaxvaluedollarcnt</th>\n",
       "      <th>taxamount</th>\n",
       "      <th>taxdelinquencyflag</th>\n",
       "      <th>taxdelinquencyyear</th>\n",
       "      <th>censustractandblock</th>\n",
       "    </tr>\n",
       "  </thead>\n",
       "  <tbody>\n",
       "    <tr>\n",
       "      <th>0</th>\n",
       "      <td>11054876</td>\n",
       "      <td>-0.0274</td>\n",
       "      <td>2016-12-09</td>\n",
       "      <td>NaN</td>\n",
       "      <td>NaN</td>\n",
       "      <td>NaN</td>\n",
       "      <td>2.0</td>\n",
       "      <td>3.0</td>\n",
       "      <td>NaN</td>\n",
       "      <td>7.0</td>\n",
       "      <td>...</td>\n",
       "      <td>NaN</td>\n",
       "      <td>NaN</td>\n",
       "      <td>177000.0</td>\n",
       "      <td>500000.0</td>\n",
       "      <td>2015.0</td>\n",
       "      <td>323000.0</td>\n",
       "      <td>6327.16</td>\n",
       "      <td>NaN</td>\n",
       "      <td>NaN</td>\n",
       "      <td>6.037117e+13</td>\n",
       "    </tr>\n",
       "    <tr>\n",
       "      <th>1</th>\n",
       "      <td>17180948</td>\n",
       "      <td>-0.0274</td>\n",
       "      <td>2016-05-23</td>\n",
       "      <td>NaN</td>\n",
       "      <td>NaN</td>\n",
       "      <td>NaN</td>\n",
       "      <td>2.0</td>\n",
       "      <td>4.0</td>\n",
       "      <td>NaN</td>\n",
       "      <td>NaN</td>\n",
       "      <td>...</td>\n",
       "      <td>1.0</td>\n",
       "      <td>NaN</td>\n",
       "      <td>192776.0</td>\n",
       "      <td>321293.0</td>\n",
       "      <td>2015.0</td>\n",
       "      <td>128517.0</td>\n",
       "      <td>3842.78</td>\n",
       "      <td>NaN</td>\n",
       "      <td>NaN</td>\n",
       "      <td>6.111004e+13</td>\n",
       "    </tr>\n",
       "    <tr>\n",
       "      <th>2</th>\n",
       "      <td>11712463</td>\n",
       "      <td>-0.0070</td>\n",
       "      <td>2016-01-05</td>\n",
       "      <td>NaN</td>\n",
       "      <td>NaN</td>\n",
       "      <td>NaN</td>\n",
       "      <td>2.0</td>\n",
       "      <td>3.0</td>\n",
       "      <td>NaN</td>\n",
       "      <td>4.0</td>\n",
       "      <td>...</td>\n",
       "      <td>NaN</td>\n",
       "      <td>NaN</td>\n",
       "      <td>55871.0</td>\n",
       "      <td>87872.0</td>\n",
       "      <td>2015.0</td>\n",
       "      <td>32001.0</td>\n",
       "      <td>3449.38</td>\n",
       "      <td>NaN</td>\n",
       "      <td>NaN</td>\n",
       "      <td>6.037236e+13</td>\n",
       "    </tr>\n",
       "  </tbody>\n",
       "</table>\n",
       "<p>3 rows × 60 columns</p>\n",
       "</div>"
      ],
      "text/plain": [
       "   parcelid  logerror transactiondate  airconditioningtypeid  \\\n",
       "0  11054876   -0.0274      2016-12-09                    NaN   \n",
       "1  17180948   -0.0274      2016-05-23                    NaN   \n",
       "2  11712463   -0.0070      2016-01-05                    NaN   \n",
       "\n",
       "   architecturalstyletypeid  basementsqft  bathroomcnt  bedroomcnt  \\\n",
       "0                       NaN           NaN          2.0         3.0   \n",
       "1                       NaN           NaN          2.0         4.0   \n",
       "2                       NaN           NaN          2.0         3.0   \n",
       "\n",
       "   buildingclasstypeid  buildingqualitytypeid         ...           \\\n",
       "0                  NaN                    7.0         ...            \n",
       "1                  NaN                    NaN         ...            \n",
       "2                  NaN                    4.0         ...            \n",
       "\n",
       "   numberofstories  fireplaceflag  structuretaxvaluedollarcnt  \\\n",
       "0              NaN            NaN                    177000.0   \n",
       "1              1.0            NaN                    192776.0   \n",
       "2              NaN            NaN                     55871.0   \n",
       "\n",
       "   taxvaluedollarcnt  assessmentyear  landtaxvaluedollarcnt  taxamount  \\\n",
       "0           500000.0          2015.0               323000.0    6327.16   \n",
       "1           321293.0          2015.0               128517.0    3842.78   \n",
       "2            87872.0          2015.0                32001.0    3449.38   \n",
       "\n",
       "   taxdelinquencyflag  taxdelinquencyyear  censustractandblock  \n",
       "0                 NaN                 NaN         6.037117e+13  \n",
       "1                 NaN                 NaN         6.111004e+13  \n",
       "2                 NaN                 NaN         6.037236e+13  \n",
       "\n",
       "[3 rows x 60 columns]"
      ]
     },
     "execution_count": 18,
     "metadata": {},
     "output_type": "execute_result"
    }
   ],
   "source": [
    "open_df.head(3)"
   ]
  },
  {
   "cell_type": "code",
   "execution_count": 19,
   "metadata": {},
   "outputs": [
    {
     "data": {
      "text/plain": [
       "(72220, 60)"
      ]
     },
     "execution_count": 19,
     "metadata": {},
     "output_type": "execute_result"
    }
   ],
   "source": [
    "open_df.shape"
   ]
  },
  {
   "cell_type": "markdown",
   "metadata": {},
   "source": [
    "Let's split *open_df* in two halves: The training set (80% of *open_df*) and the dev set (20% of *open_df*)"
   ]
  },
  {
   "cell_type": "code",
   "execution_count": 20,
   "metadata": {
    "collapsed": true
   },
   "outputs": [],
   "source": [
    "# Create Training-Dev datasets (80-20% split)\n",
    "train_df, dev_df = train_test_split(open_df, test_size=0.2, random_state=42)"
   ]
  },
  {
   "cell_type": "code",
   "execution_count": 22,
   "metadata": {},
   "outputs": [
    {
     "name": "stdout",
     "output_type": "stream",
     "text": [
      "Shape of training dataset (57776, 60)\n",
      "Type of train_df <class 'pandas.core.frame.DataFrame'>\n"
     ]
    }
   ],
   "source": [
    "print(\"Shape of training dataset\", train_df.shape)\n",
    "print(\"Type of train_df\", type(train_df))"
   ]
  },
  {
   "cell_type": "code",
   "execution_count": 23,
   "metadata": {},
   "outputs": [
    {
     "name": "stdout",
     "output_type": "stream",
     "text": [
      "Shape of training dataset (14444, 60)\n",
      "Type of train_df <class 'pandas.core.frame.DataFrame'>\n"
     ]
    }
   ],
   "source": [
    "print(\"Shape of training dataset\", dev_df.shape)\n",
    "print(\"Type of train_df\", type(dev_df))"
   ]
  },
  {
   "cell_type": "markdown",
   "metadata": {},
   "source": [
    "### Data preprocessing "
   ]
  },
  {
   "cell_type": "code",
   "execution_count": null,
   "metadata": {
    "collapsed": true
   },
   "outputs": [],
   "source": []
  },
  {
   "cell_type": "code",
   "execution_count": 25,
   "metadata": {},
   "outputs": [
    {
     "data": {
      "text/plain": [
       "15071   NaN\n",
       "12154   NaN\n",
       "27687   NaN\n",
       "41103   NaN\n",
       "62131   NaN\n",
       "Name: basementsqft, dtype: float64"
      ]
     },
     "execution_count": 25,
     "metadata": {},
     "output_type": "execute_result"
    }
   ],
   "source": [
    "# Create indicator feature for covariates that have lots of missing data: Is there a value? (Y/N)\n",
    "train['has_pool'] = train[\"poolcnt\"].apply(lambda x: 0 if np.isnan(x) else 1).astype(float)\n",
    "train['has_airconditioning'] = train[\"airconditioningtypeid\"].apply(lambda x: 0 if np.isnan(x) else 1).astype(float)\n",
    "train_df['has_basement'] = train[\"basementsqft\"].apply(lambda x: 0 if np.isnan(x) else 1).astype(float)\n",
    "train['has_hottuborspa'] = train[\"hashottuborspa\"].apply(lambda x: 0 if np.isnan(x) else 1).astype(float)"
   ]
  },
  {
   "cell_type": "code",
   "execution_count": null,
   "metadata": {
    "collapsed": true
   },
   "outputs": [],
   "source": [
    "# OneHotEncoding\n",
    "train_df['has_basement'] = train[\"basementsqft\"].apply(lambda x: 0 if np.isnan(x) else 1).astype(float)\n",
    "train['has_hottuborspa'] = train[\"hashottuborspa\"].apply(lambda x: 0 if np.isnan(x) else 1).astype(float)\n",
    "train['has_pool'] = train[\"poolcnt\"].apply(lambda x: 0 if np.isnan(x) else 1).astype(float)\n",
    "train['has_airconditioning'] = train[\"airconditioningtypeid\"].apply(lambda x: 0 if np.isnan(x) else 1).astype(float)\n",
    "\n",
    "# Columns to be consolidated\n",
    "train['yardbuildingsqft17'] = train['yardbuildingsqft17'].apply(lambda x: 0 if np.isnan(x) else x).astype(float)\n",
    "train['yardbuildingsqft26'] = train['yardbuildingsqft26'].apply(lambda x: 0 if np.isnan(x) else x).astype(float)\n",
    "train['yard_building_square_feet'] = train['yardbuildingsqft17'].astype(int) + train['yardbuildingsqft26'].astype(float)\n",
    "\n",
    "# Assume some more friendly feature names\n",
    "train.rename(columns={'fireplacecnt':'fireplace_count'}, inplace=True)\n",
    "train.rename(columns={'bedroomcnt':'bedroom_count'}, inplace=True)\n",
    "train.rename(columns={'bathroomcnt':'bathroom_count'}, inplace=True)\n",
    "train.rename(columns={'calculatedfinishedsquarefeet':'square_feet'}, inplace=True)\n",
    "train.rename(columns={'garagecarcnt':'garage_car_count'}, inplace=True)\n",
    "train.rename(columns={'garagetotalsqft':'garage_square_feet'}, inplace=True)\n",
    "train.rename(columns={'hashottuborspa':'has_hottub_or_spa'}, inplace=True)\n",
    "\n",
    "train.rename(columns={'landtaxvaluedollarcnt':'land_tax'}, inplace=True)\n",
    "train.rename(columns={'lotsizesquarefeet':'lot_size_square_feet'}, inplace=True)\n",
    "train.rename(columns={'taxvaluedollarcnt':'tax_value'}, inplace=True)\n",
    "train.rename(columns={'taxamount':'tax_amount'}, inplace=True)\n",
    "train.rename(columns={'structuretaxvaluedollarcnt':'structure_tax_value'}, inplace=True)\n",
    "train.rename(columns={'yearbuilt':'year_built'}, inplace=True)\n",
    "\n",
    "train.rename(columns={'roomcnt':'room_count'}, inplace=True)"
   ]
  }
 ],
 "metadata": {
  "kernelspec": {
   "display_name": "Python 3",
   "language": "python",
   "name": "python3"
  },
  "language_info": {
   "codemirror_mode": {
    "name": "ipython",
    "version": 3
   },
   "file_extension": ".py",
   "mimetype": "text/x-python",
   "name": "python",
   "nbconvert_exporter": "python",
   "pygments_lexer": "ipython3",
   "version": "3.5.4"
  }
 },
 "nbformat": 4,
 "nbformat_minor": 2
}
