{
 "cells": [
  {
   "cell_type": "markdown",
   "metadata": {},
   "source": [
    "### 1) Import libraries "
   ]
  },
  {
   "cell_type": "code",
   "execution_count": 1,
   "metadata": {},
   "outputs": [
    {
     "name": "stderr",
     "output_type": "stream",
     "text": [
      "/Users/cbartolm/anaconda/envs/cs230/lib/python3.5/site-packages/sklearn/cross_validation.py:41: DeprecationWarning: This module was deprecated in version 0.18 in favor of the model_selection module into which all the refactored classes and functions are moved. Also note that the interface of the new CV iterators are different from that of this module. This module will be removed in 0.20.\n",
      "  \"This module will be removed in 0.20.\", DeprecationWarning)\n"
     ]
    }
   ],
   "source": [
    "# Data preprocessing\n",
    "import pandas as pd\n",
    "\n",
    "# Efficient linear algebra\n",
    "import numpy as np\n",
    "\n",
    "# ML modelling\n",
    "from sklearn.ensemble import RandomForestRegressor, AdaBoostRegressor, ExtraTreesRegressor, GradientBoostingRegressor\n",
    "from sklearn.svm import LinearSVR\n",
    "from sklearn.cross_validation import KFold;\n",
    "\n",
    "# Train-Dev Set Split\n",
    "from sklearn.model_selection import train_test_split\n",
    "\n",
    "# Visualizations\n",
    "import seaborn as sns\n",
    "import matplotlib.pyplot as plt\n",
    "\n",
    "%matplotlib inline"
   ]
  },
  {
   "cell_type": "code",
   "execution_count": 2,
   "metadata": {
    "collapsed": true
   },
   "outputs": [],
   "source": [
    "# Ignore warnings\n",
    "import warnings\n",
    "warnings.filterwarnings('ignore')"
   ]
  },
  {
   "cell_type": "markdown",
   "metadata": {},
   "source": [
    "### 2) Load data (Train and Test sets from assignment 1) "
   ]
  },
  {
   "cell_type": "code",
   "execution_count": 4,
   "metadata": {},
   "outputs": [],
   "source": [
    "open_df = pd.read_csv(\"../datasets_stanford/merged_train_2016.csv\")\n",
    "donttouch_df = pd.read_csv(\"../datasets_stanford/merged_test_2016.csv\")\n",
    "\n",
    "# Store our passenger ID for easy access\n",
    "parcelIDs = open_df['parcelid']"
   ]
  },
  {
   "cell_type": "code",
   "execution_count": 5,
   "metadata": {},
   "outputs": [
    {
     "data": {
      "text/html": [
       "<div>\n",
       "<style>\n",
       "    .dataframe thead tr:only-child th {\n",
       "        text-align: right;\n",
       "    }\n",
       "\n",
       "    .dataframe thead th {\n",
       "        text-align: left;\n",
       "    }\n",
       "\n",
       "    .dataframe tbody tr th {\n",
       "        vertical-align: top;\n",
       "    }\n",
       "</style>\n",
       "<table border=\"1\" class=\"dataframe\">\n",
       "  <thead>\n",
       "    <tr style=\"text-align: right;\">\n",
       "      <th></th>\n",
       "      <th>parcelid</th>\n",
       "      <th>logerror</th>\n",
       "      <th>transactiondate</th>\n",
       "      <th>airconditioningtypeid</th>\n",
       "      <th>architecturalstyletypeid</th>\n",
       "      <th>basementsqft</th>\n",
       "      <th>bathroomcnt</th>\n",
       "      <th>bedroomcnt</th>\n",
       "      <th>buildingclasstypeid</th>\n",
       "      <th>buildingqualitytypeid</th>\n",
       "      <th>...</th>\n",
       "      <th>numberofstories</th>\n",
       "      <th>fireplaceflag</th>\n",
       "      <th>structuretaxvaluedollarcnt</th>\n",
       "      <th>taxvaluedollarcnt</th>\n",
       "      <th>assessmentyear</th>\n",
       "      <th>landtaxvaluedollarcnt</th>\n",
       "      <th>taxamount</th>\n",
       "      <th>taxdelinquencyflag</th>\n",
       "      <th>taxdelinquencyyear</th>\n",
       "      <th>censustractandblock</th>\n",
       "    </tr>\n",
       "  </thead>\n",
       "  <tbody>\n",
       "    <tr>\n",
       "      <th>0</th>\n",
       "      <td>11054876</td>\n",
       "      <td>-0.0274</td>\n",
       "      <td>2016-12-09</td>\n",
       "      <td>NaN</td>\n",
       "      <td>NaN</td>\n",
       "      <td>NaN</td>\n",
       "      <td>2.0</td>\n",
       "      <td>3.0</td>\n",
       "      <td>NaN</td>\n",
       "      <td>7.0</td>\n",
       "      <td>...</td>\n",
       "      <td>NaN</td>\n",
       "      <td>NaN</td>\n",
       "      <td>177000.0</td>\n",
       "      <td>500000.0</td>\n",
       "      <td>2015.0</td>\n",
       "      <td>323000.0</td>\n",
       "      <td>6327.16</td>\n",
       "      <td>NaN</td>\n",
       "      <td>NaN</td>\n",
       "      <td>6.037117e+13</td>\n",
       "    </tr>\n",
       "    <tr>\n",
       "      <th>1</th>\n",
       "      <td>17180948</td>\n",
       "      <td>-0.0274</td>\n",
       "      <td>2016-05-23</td>\n",
       "      <td>NaN</td>\n",
       "      <td>NaN</td>\n",
       "      <td>NaN</td>\n",
       "      <td>2.0</td>\n",
       "      <td>4.0</td>\n",
       "      <td>NaN</td>\n",
       "      <td>NaN</td>\n",
       "      <td>...</td>\n",
       "      <td>1.0</td>\n",
       "      <td>NaN</td>\n",
       "      <td>192776.0</td>\n",
       "      <td>321293.0</td>\n",
       "      <td>2015.0</td>\n",
       "      <td>128517.0</td>\n",
       "      <td>3842.78</td>\n",
       "      <td>NaN</td>\n",
       "      <td>NaN</td>\n",
       "      <td>6.111004e+13</td>\n",
       "    </tr>\n",
       "    <tr>\n",
       "      <th>2</th>\n",
       "      <td>11712463</td>\n",
       "      <td>-0.0070</td>\n",
       "      <td>2016-01-05</td>\n",
       "      <td>NaN</td>\n",
       "      <td>NaN</td>\n",
       "      <td>NaN</td>\n",
       "      <td>2.0</td>\n",
       "      <td>3.0</td>\n",
       "      <td>NaN</td>\n",
       "      <td>4.0</td>\n",
       "      <td>...</td>\n",
       "      <td>NaN</td>\n",
       "      <td>NaN</td>\n",
       "      <td>55871.0</td>\n",
       "      <td>87872.0</td>\n",
       "      <td>2015.0</td>\n",
       "      <td>32001.0</td>\n",
       "      <td>3449.38</td>\n",
       "      <td>NaN</td>\n",
       "      <td>NaN</td>\n",
       "      <td>6.037236e+13</td>\n",
       "    </tr>\n",
       "  </tbody>\n",
       "</table>\n",
       "<p>3 rows × 60 columns</p>\n",
       "</div>"
      ],
      "text/plain": [
       "   parcelid  logerror transactiondate  airconditioningtypeid  \\\n",
       "0  11054876   -0.0274      2016-12-09                    NaN   \n",
       "1  17180948   -0.0274      2016-05-23                    NaN   \n",
       "2  11712463   -0.0070      2016-01-05                    NaN   \n",
       "\n",
       "   architecturalstyletypeid  basementsqft  bathroomcnt  bedroomcnt  \\\n",
       "0                       NaN           NaN          2.0         3.0   \n",
       "1                       NaN           NaN          2.0         4.0   \n",
       "2                       NaN           NaN          2.0         3.0   \n",
       "\n",
       "   buildingclasstypeid  buildingqualitytypeid         ...           \\\n",
       "0                  NaN                    7.0         ...            \n",
       "1                  NaN                    NaN         ...            \n",
       "2                  NaN                    4.0         ...            \n",
       "\n",
       "   numberofstories  fireplaceflag  structuretaxvaluedollarcnt  \\\n",
       "0              NaN            NaN                    177000.0   \n",
       "1              1.0            NaN                    192776.0   \n",
       "2              NaN            NaN                     55871.0   \n",
       "\n",
       "   taxvaluedollarcnt  assessmentyear  landtaxvaluedollarcnt  taxamount  \\\n",
       "0           500000.0          2015.0               323000.0    6327.16   \n",
       "1           321293.0          2015.0               128517.0    3842.78   \n",
       "2            87872.0          2015.0                32001.0    3449.38   \n",
       "\n",
       "   taxdelinquencyflag  taxdelinquencyyear  censustractandblock  \n",
       "0                 NaN                 NaN         6.037117e+13  \n",
       "1                 NaN                 NaN         6.111004e+13  \n",
       "2                 NaN                 NaN         6.037236e+13  \n",
       "\n",
       "[3 rows x 60 columns]"
      ]
     },
     "execution_count": 5,
     "metadata": {},
     "output_type": "execute_result"
    }
   ],
   "source": [
    "open_df.head(3)"
   ]
  },
  {
   "cell_type": "code",
   "execution_count": 6,
   "metadata": {},
   "outputs": [
    {
     "data": {
      "text/plain": [
       "(72220, 60)"
      ]
     },
     "execution_count": 6,
     "metadata": {},
     "output_type": "execute_result"
    }
   ],
   "source": [
    "open_df.shape"
   ]
  },
  {
   "cell_type": "markdown",
   "metadata": {},
   "source": [
    "Let's split *open_df* in two halves: The training set (80% of *open_df*) and the dev set (20% of *open_df*)"
   ]
  },
  {
   "cell_type": "code",
   "execution_count": 7,
   "metadata": {
    "collapsed": true
   },
   "outputs": [],
   "source": [
    "# Create Training-Dev datasets (80-20% split)\n",
    "train_df, dev_df = train_test_split(open_df, test_size=0.2, random_state=42)"
   ]
  },
  {
   "cell_type": "code",
   "execution_count": 8,
   "metadata": {},
   "outputs": [
    {
     "name": "stdout",
     "output_type": "stream",
     "text": [
      "Shape of training dataset (57776, 60)\n",
      "Type of train_df <class 'pandas.core.frame.DataFrame'>\n"
     ]
    }
   ],
   "source": [
    "print(\"Shape of training dataset\", train_df.shape)\n",
    "print(\"Type of train_df\", type(train_df))"
   ]
  },
  {
   "cell_type": "code",
   "execution_count": 9,
   "metadata": {},
   "outputs": [
    {
     "name": "stdout",
     "output_type": "stream",
     "text": [
      "Shape of dev-set (14444, 60)\n",
      "Type of dev_df <class 'pandas.core.frame.DataFrame'>\n"
     ]
    }
   ],
   "source": [
    "print(\"Shape of dev-set\", dev_df.shape)\n",
    "print(\"Type of dev_df\", type(dev_df))"
   ]
  },
  {
   "cell_type": "markdown",
   "metadata": {},
   "source": [
    "### Data preprocessing "
   ]
  },
  {
   "cell_type": "code",
   "execution_count": 10,
   "metadata": {},
   "outputs": [
    {
     "name": "stdout",
     "output_type": "stream",
     "text": [
      "Shape of expanded training set:  (57776, 64)\n"
     ]
    }
   ],
   "source": [
    "# Create indicator feature for covariates that have lots of missing data: Is there a value? (Y/N)\n",
    "train_df['has_pool'] = train_df[\"poolcnt\"].apply(lambda x: 0 if np.isnan(x) else 1).astype(float)\n",
    "train_df['has_airconditioning'] = train_df[\"airconditioningtypeid\"].apply(lambda x: 0 if np.isnan(x) else 1).astype(float)\n",
    "train_df['has_basement'] = train_df[\"basementsqft\"].apply(lambda x: 0 if np.isnan(x) else 1).astype(float)\n",
    "train_df['has_hottuborspa'] = train_df[\"hashottuborspa\"].apply(lambda x: 0 if np.isnan(x) else 1).astype(float)\n",
    "\n",
    "print(\"Shape of expanded training set: \", train_df.shape)"
   ]
  },
  {
   "cell_type": "code",
   "execution_count": 11,
   "metadata": {},
   "outputs": [
    {
     "name": "stdout",
     "output_type": "stream",
     "text": [
      "Shape of expanded training set:  (57776, 65)\n"
     ]
    }
   ],
   "source": [
    "# Columns needed to be fused in one\n",
    "train_df['yardbuildingsqft17'] = train_df['yardbuildingsqft17'].apply(lambda x: 0 if np.isnan(x) else x).astype(float)\n",
    "train_df['yardbuildingsqft26'] = train_df['yardbuildingsqft26'].apply(lambda x: 0 if np.isnan(x) else x).astype(float)\n",
    "train_df['yard_building_square_feet'] = train_df['yardbuildingsqft17'].astype(int) + train_df['yardbuildingsqft26'].astype(float)\n",
    "\n",
    "print(\"Shape of expanded training set: \", train_df.shape)"
   ]
  },
  {
   "cell_type": "code",
   "execution_count": 12,
   "metadata": {},
   "outputs": [],
   "source": [
    "# Assume some more friendly feature names\n",
    "train_df.rename(columns={'fireplacecnt':'fireplace_count'}, inplace=True)\n",
    "train_df.rename(columns={'bedroomcnt':'bedroom_count'}, inplace=True)\n",
    "train_df.rename(columns={'bathroomcnt':'bathroom_count'}, inplace=True)\n",
    "train_df.rename(columns={'calculatedfinishedsquarefeet':'square_feet'}, inplace=True)\n",
    "train_df.rename(columns={'garagecarcnt':'garage_car_count'}, inplace=True)\n",
    "train_df.rename(columns={'garagetotalsqft':'garage_square_feet'}, inplace=True)\n",
    "train_df.rename(columns={'hashottuborspa':'has_hottub_or_spa'}, inplace=True)\n",
    "\n",
    "train_df.rename(columns={'landtaxvaluedollarcnt':'land_tax'}, inplace=True)\n",
    "train_df.rename(columns={'lotsizesquarefeet':'lot_size_square_feet'}, inplace=True)\n",
    "train_df.rename(columns={'taxvaluedollarcnt':'tax_value'}, inplace=True)\n",
    "train_df.rename(columns={'taxamount':'tax_amount'}, inplace=True)\n",
    "train_df.rename(columns={'structuretaxvaluedollarcnt':'structure_tax_value'}, inplace=True)\n",
    "train_df.rename(columns={'yearbuilt':'year_built'}, inplace=True)\n",
    "\n",
    "train_df.rename(columns={'roomcnt':'room_count'}, inplace=True)"
   ]
  },
  {
   "cell_type": "code",
   "execution_count": 13,
   "metadata": {},
   "outputs": [],
   "source": [
    "# Impute zero for NaN for these features\n",
    "train_df['fireplace_count'] = train_df['fireplace_count'].apply(lambda x: 0 if np.isnan(x) else x).astype(float)\n",
    "\n",
    "# Impute median value for NaN for these features\n",
    "train_df['bathroom_count'] = train_df['bathroom_count'].fillna(train_df['bathroom_count'].median()).astype(float)\n",
    "train_df['bedroom_count'] = train_df['bedroom_count'].fillna(train_df['bedroom_count'].median()).astype(float)\n",
    "train_df['room_count'] = train_df['room_count'].fillna(train_df['room_count'].median()).astype(float)\n",
    "\n",
    "train_df['tax_amount'] = train_df['tax_amount'].fillna(train_df['tax_amount'].median()).astype(float)\n",
    "train_df['land_tax'] = train_df['land_tax'].fillna(train_df['land_tax'].median()).astype(float)\n",
    "train_df['tax_value'] = train_df['tax_value'].fillna(train_df['tax_value'].median()).astype(float)\n",
    "train_df['structure_tax_value'] = train_df['structure_tax_value'].fillna(train_df['structure_tax_value'].median()).astype(float)\n",
    "train_df['garage_square_feet'] = train_df['garage_square_feet'].fillna(train_df['garage_square_feet'].median()).astype(float)\n",
    "train_df['garage_car_count'] = train_df['garage_car_count'].fillna(train_df['garage_car_count'].median()).astype(float)\n",
    "train_df['fireplace_count'] = train_df['fireplace_count'].fillna(train_df['fireplace_count'].median()).astype(float)\n",
    "train_df['square_feet'] = train_df['square_feet'].fillna(train_df['square_feet'].median()).astype(float)\n",
    "train_df['year_built'] = train_df['year_built'].fillna(train_df['year_built'].median()).astype(float)\n",
    "train_df['lot_size_square_feet'] = train_df['lot_size_square_feet'].fillna(train_df['lot_size_square_feet'].median()).astype(float)\n",
    "\n",
    "train_df['longitude'] = train_df['longitude'].fillna(train_df['longitude'].median()).astype(float)\n",
    "train_df['latitude'] = train_df['latitude'].fillna(train_df['latitude'].median()).astype(float)"
   ]
  },
  {
   "cell_type": "code",
   "execution_count": 14,
   "metadata": {},
   "outputs": [
    {
     "name": "stdout",
     "output_type": "stream",
     "text": [
      "dropping features ['assessmentyear', 'airconditioningtypeid', 'basementsqft', 'architecturalstyletypeid', 'buildingclasstypeid', 'buildingqualitytypeid', 'calculatedbathnbr', 'decktypeid', 'finishedfloor1squarefeet', 'fips', 'heatingorsystemtypeid', 'rawcensustractandblock', 'numberofstories', 'storytypeid', 'threequarterbathnbr', 'typeconstructiontypeid', 'unitcnt', 'censustractandblock', 'fireplaceflag', 'taxdelinquencyflag', 'taxdelinquencyyear', 'fullbathcnt', 'finishedsquarefeet6', 'finishedsquarefeet12', 'finishedsquarefeet13', 'finishedsquarefeet15', 'finishedsquarefeet50', 'yardbuildingsqft17', 'yardbuildingsqft26', 'propertycountylandusecode', 'propertylandusetypeid', 'propertyzoningdesc', 'pooltypeid10', 'pooltypeid2', 'pooltypeid7', 'poolsizesum', 'poolcnt', 'regionidzip', 'regionidneighborhood', 'regionidcity', 'regionidcounty']\n"
     ]
    }
   ],
   "source": [
    "# Drop indistinct features\n",
    "drop_elements = ['assessmentyear']\n",
    "\n",
    "# Drop any columns insufficiently described\n",
    "drop_elements = drop_elements + ['airconditioningtypeid', 'basementsqft', 'architecturalstyletypeid', 'buildingclasstypeid', 'buildingqualitytypeid', 'calculatedbathnbr', 'decktypeid', 'finishedfloor1squarefeet',\n",
    "                 'fips', 'heatingorsystemtypeid', 'rawcensustractandblock',\n",
    "                 'numberofstories', 'storytypeid', 'threequarterbathnbr', 'typeconstructiontypeid', 'unitcnt', 'censustractandblock', 'fireplaceflag', 'taxdelinquencyflag', 'taxdelinquencyyear',\n",
    "                ]\n",
    "\n",
    "# Drop any duplicated columns\n",
    "drop_elements = drop_elements + ['fullbathcnt', 'finishedsquarefeet6', 'finishedsquarefeet12', 'finishedsquarefeet13', 'finishedsquarefeet15', 'finishedsquarefeet50', 'yardbuildingsqft17', 'yardbuildingsqft26']\n",
    "\n",
    "# Land use data\n",
    "drop_elements = drop_elements + ['propertycountylandusecode', 'propertylandusetypeid', 'propertyzoningdesc']\n",
    "\n",
    "# We'll make do with a binary feature here\n",
    "drop_elements = drop_elements + ['pooltypeid10', 'pooltypeid2', 'pooltypeid7', 'poolsizesum', 'poolcnt']\n",
    "\n",
    "# We'll use the longitude and latitutde as features \n",
    "drop_elements = drop_elements + ['regionidzip', 'regionidneighborhood', 'regionidcity', 'regionidcounty']\n",
    "\n",
    "print(\"dropping features\", drop_elements)\n",
    "\n",
    "train_df = train_df.drop(drop_elements, axis = 1)"
   ]
  },
  {
   "cell_type": "code",
   "execution_count": 15,
   "metadata": {},
   "outputs": [
    {
     "name": "stdout",
     "output_type": "stream",
     "text": [
      "Shape of the modified training set:  (57776, 24)\n"
     ]
    }
   ],
   "source": [
    "print(\"Shape of the modified training set: \", train_df.shape)"
   ]
  },
  {
   "cell_type": "code",
   "execution_count": 16,
   "metadata": {},
   "outputs": [
    {
     "data": {
      "text/html": [
       "<div>\n",
       "<style>\n",
       "    .dataframe thead tr:only-child th {\n",
       "        text-align: right;\n",
       "    }\n",
       "\n",
       "    .dataframe thead th {\n",
       "        text-align: left;\n",
       "    }\n",
       "\n",
       "    .dataframe tbody tr th {\n",
       "        vertical-align: top;\n",
       "    }\n",
       "</style>\n",
       "<table border=\"1\" class=\"dataframe\">\n",
       "  <thead>\n",
       "    <tr style=\"text-align: right;\">\n",
       "      <th></th>\n",
       "      <th>parcelid</th>\n",
       "      <th>logerror</th>\n",
       "      <th>transactiondate</th>\n",
       "      <th>bathroom_count</th>\n",
       "      <th>bedroom_count</th>\n",
       "      <th>square_feet</th>\n",
       "      <th>fireplace_count</th>\n",
       "      <th>garage_car_count</th>\n",
       "      <th>garage_square_feet</th>\n",
       "      <th>has_hottub_or_spa</th>\n",
       "      <th>...</th>\n",
       "      <th>year_built</th>\n",
       "      <th>structure_tax_value</th>\n",
       "      <th>tax_value</th>\n",
       "      <th>land_tax</th>\n",
       "      <th>tax_amount</th>\n",
       "      <th>has_pool</th>\n",
       "      <th>has_airconditioning</th>\n",
       "      <th>has_basement</th>\n",
       "      <th>has_hottuborspa</th>\n",
       "      <th>yard_building_square_feet</th>\n",
       "    </tr>\n",
       "  </thead>\n",
       "  <tbody>\n",
       "    <tr>\n",
       "      <th>15071</th>\n",
       "      <td>12456771</td>\n",
       "      <td>0.0953</td>\n",
       "      <td>2016-03-01</td>\n",
       "      <td>1.0</td>\n",
       "      <td>2.0</td>\n",
       "      <td>895.0</td>\n",
       "      <td>0.0</td>\n",
       "      <td>2.0</td>\n",
       "      <td>431.0</td>\n",
       "      <td>NaN</td>\n",
       "      <td>...</td>\n",
       "      <td>1938.0</td>\n",
       "      <td>47262.0</td>\n",
       "      <td>153694.0</td>\n",
       "      <td>106432.0</td>\n",
       "      <td>2050.01</td>\n",
       "      <td>0.0</td>\n",
       "      <td>0.0</td>\n",
       "      <td>0.0</td>\n",
       "      <td>0.0</td>\n",
       "      <td>0.0</td>\n",
       "    </tr>\n",
       "    <tr>\n",
       "      <th>12154</th>\n",
       "      <td>14683421</td>\n",
       "      <td>-0.2219</td>\n",
       "      <td>2016-04-29</td>\n",
       "      <td>2.0</td>\n",
       "      <td>2.0</td>\n",
       "      <td>1494.0</td>\n",
       "      <td>0.0</td>\n",
       "      <td>1.0</td>\n",
       "      <td>0.0</td>\n",
       "      <td>NaN</td>\n",
       "      <td>...</td>\n",
       "      <td>1978.0</td>\n",
       "      <td>118644.0</td>\n",
       "      <td>485664.0</td>\n",
       "      <td>367020.0</td>\n",
       "      <td>5004.30</td>\n",
       "      <td>0.0</td>\n",
       "      <td>1.0</td>\n",
       "      <td>0.0</td>\n",
       "      <td>0.0</td>\n",
       "      <td>0.0</td>\n",
       "    </tr>\n",
       "    <tr>\n",
       "      <th>27687</th>\n",
       "      <td>11203011</td>\n",
       "      <td>0.0998</td>\n",
       "      <td>2016-05-09</td>\n",
       "      <td>3.0</td>\n",
       "      <td>3.0</td>\n",
       "      <td>1661.0</td>\n",
       "      <td>0.0</td>\n",
       "      <td>2.0</td>\n",
       "      <td>431.0</td>\n",
       "      <td>NaN</td>\n",
       "      <td>...</td>\n",
       "      <td>2008.0</td>\n",
       "      <td>129600.0</td>\n",
       "      <td>162000.0</td>\n",
       "      <td>32400.0</td>\n",
       "      <td>3798.30</td>\n",
       "      <td>0.0</td>\n",
       "      <td>1.0</td>\n",
       "      <td>0.0</td>\n",
       "      <td>0.0</td>\n",
       "      <td>0.0</td>\n",
       "    </tr>\n",
       "    <tr>\n",
       "      <th>41103</th>\n",
       "      <td>14098214</td>\n",
       "      <td>0.0497</td>\n",
       "      <td>2016-12-08</td>\n",
       "      <td>1.0</td>\n",
       "      <td>2.0</td>\n",
       "      <td>764.0</td>\n",
       "      <td>0.0</td>\n",
       "      <td>1.0</td>\n",
       "      <td>260.0</td>\n",
       "      <td>NaN</td>\n",
       "      <td>...</td>\n",
       "      <td>1948.0</td>\n",
       "      <td>41060.0</td>\n",
       "      <td>518630.0</td>\n",
       "      <td>477570.0</td>\n",
       "      <td>6140.32</td>\n",
       "      <td>0.0</td>\n",
       "      <td>0.0</td>\n",
       "      <td>0.0</td>\n",
       "      <td>0.0</td>\n",
       "      <td>0.0</td>\n",
       "    </tr>\n",
       "    <tr>\n",
       "      <th>62131</th>\n",
       "      <td>17148736</td>\n",
       "      <td>-0.0080</td>\n",
       "      <td>2016-04-27</td>\n",
       "      <td>2.0</td>\n",
       "      <td>4.0</td>\n",
       "      <td>1466.0</td>\n",
       "      <td>1.0</td>\n",
       "      <td>2.0</td>\n",
       "      <td>481.0</td>\n",
       "      <td>NaN</td>\n",
       "      <td>...</td>\n",
       "      <td>1962.0</td>\n",
       "      <td>167778.0</td>\n",
       "      <td>335556.0</td>\n",
       "      <td>167778.0</td>\n",
       "      <td>4114.20</td>\n",
       "      <td>0.0</td>\n",
       "      <td>0.0</td>\n",
       "      <td>0.0</td>\n",
       "      <td>0.0</td>\n",
       "      <td>215.0</td>\n",
       "    </tr>\n",
       "  </tbody>\n",
       "</table>\n",
       "<p>5 rows × 24 columns</p>\n",
       "</div>"
      ],
      "text/plain": [
       "       parcelid  logerror transactiondate  bathroom_count  bedroom_count  \\\n",
       "15071  12456771    0.0953      2016-03-01             1.0            2.0   \n",
       "12154  14683421   -0.2219      2016-04-29             2.0            2.0   \n",
       "27687  11203011    0.0998      2016-05-09             3.0            3.0   \n",
       "41103  14098214    0.0497      2016-12-08             1.0            2.0   \n",
       "62131  17148736   -0.0080      2016-04-27             2.0            4.0   \n",
       "\n",
       "       square_feet  fireplace_count  garage_car_count  garage_square_feet  \\\n",
       "15071        895.0              0.0               2.0               431.0   \n",
       "12154       1494.0              0.0               1.0                 0.0   \n",
       "27687       1661.0              0.0               2.0               431.0   \n",
       "41103        764.0              0.0               1.0               260.0   \n",
       "62131       1466.0              1.0               2.0               481.0   \n",
       "\n",
       "      has_hottub_or_spa            ...              year_built  \\\n",
       "15071               NaN            ...                  1938.0   \n",
       "12154               NaN            ...                  1978.0   \n",
       "27687               NaN            ...                  2008.0   \n",
       "41103               NaN            ...                  1948.0   \n",
       "62131               NaN            ...                  1962.0   \n",
       "\n",
       "       structure_tax_value  tax_value  land_tax  tax_amount  has_pool  \\\n",
       "15071              47262.0   153694.0  106432.0     2050.01       0.0   \n",
       "12154             118644.0   485664.0  367020.0     5004.30       0.0   \n",
       "27687             129600.0   162000.0   32400.0     3798.30       0.0   \n",
       "41103              41060.0   518630.0  477570.0     6140.32       0.0   \n",
       "62131             167778.0   335556.0  167778.0     4114.20       0.0   \n",
       "\n",
       "       has_airconditioning  has_basement  has_hottuborspa  \\\n",
       "15071                  0.0           0.0              0.0   \n",
       "12154                  1.0           0.0              0.0   \n",
       "27687                  1.0           0.0              0.0   \n",
       "41103                  0.0           0.0              0.0   \n",
       "62131                  0.0           0.0              0.0   \n",
       "\n",
       "       yard_building_square_feet  \n",
       "15071                        0.0  \n",
       "12154                        0.0  \n",
       "27687                        0.0  \n",
       "41103                        0.0  \n",
       "62131                      215.0  \n",
       "\n",
       "[5 rows x 24 columns]"
      ]
     },
     "execution_count": 16,
     "metadata": {},
     "output_type": "execute_result"
    }
   ],
   "source": [
    "train_df.head(5)"
   ]
  },
  {
   "cell_type": "code",
   "execution_count": null,
   "metadata": {
    "collapsed": true
   },
   "outputs": [],
   "source": []
  },
  {
   "cell_type": "code",
   "execution_count": null,
   "metadata": {
    "collapsed": true
   },
   "outputs": [],
   "source": []
  },
  {
   "cell_type": "code",
   "execution_count": null,
   "metadata": {
    "collapsed": true
   },
   "outputs": [],
   "source": []
  }
 ],
 "metadata": {
  "kernelspec": {
   "display_name": "Python 3",
   "language": "python",
   "name": "python3"
  },
  "language_info": {
   "codemirror_mode": {
    "name": "ipython",
    "version": 3
   },
   "file_extension": ".py",
   "mimetype": "text/x-python",
   "name": "python",
   "nbconvert_exporter": "python",
   "pygments_lexer": "ipython3",
   "version": "3.5.4"
  }
 },
 "nbformat": 4,
 "nbformat_minor": 2
}
